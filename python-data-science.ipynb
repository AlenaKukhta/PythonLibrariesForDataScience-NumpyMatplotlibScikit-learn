{
 "cells": [
  {
   "cell_type": "markdown",
   "metadata": {
    "papermill": {
     "duration": 0.016942,
     "end_time": "2021-02-02T15:58:40.834668",
     "exception": false,
     "start_time": "2021-02-02T15:58:40.817726",
     "status": "completed"
    },
    "tags": []
   },
   "source": [
    "# Итоговый проект по курсу GeekBrains Библиотеки Python для Data Science: Numpy, Matplotlib, Scikit-learn"
   ]
  },
  {
   "cell_type": "markdown",
   "metadata": {
    "papermill": {
     "duration": 0.014676,
     "end_time": "2021-02-02T15:58:40.864096",
     "exception": false,
     "start_time": "2021-02-02T15:58:40.849420",
     "status": "completed"
    },
    "tags": []
   },
   "source": [
    "## Задание для курсового проекта\n",
    "Метрика: R2 - коэффициент детерминации (sklearn.metrics.r2_score)\n",
    "\n",
    "#### Сдача проекта:\n",
    "1. Срок сдачи: 05.02.2021\n",
    "2. Прислать в раздел Задания Урока 10 (\"Вебинар. Консультация по итоговому проекту\") ссылку на ноутбук в github или public kaggle notebook \n",
    "3. Необходимо получить R2 > 0.6 на Private Leaderboard\n",
    "4. Ник на kaggle - alena77\n",
    "\n",
    "Примечание: Все файлы csv должны содержать названия полей (header - то есть \"шапку\"), разделитель - запятая. В файлах не должны содержаться индексы из датафрейма.\n",
    "\n",
    "#### Рекомендации для файла с кодом (ipynb):\n",
    "1. Файл должен содержать заголовки и комментарии\n",
    "2. Повторяющиеся операции лучше оформлять в виде функций\n",
    "3. По возможности добавлять графики, описывающие данные (около 3-5)\n",
    "4. Добавлять только лучшую модель, то есть не включать в код все варианты решения проекта\n",
    "5. Скрипт проекта должен отрабатывать от начала и до конца (от загрузки данных до выгрузки предсказаний)\n",
    "6. Весь проект должен быть в одном скрипте (файл ipynb).\n",
    "7. При использовании статистик (среднее, медиана и т.д.) в качестве признаков, лучше считать их на трейне, и потом на валидационных и тестовых данных не считать статистики заново, а брать их с трейна.\n",
    "8. Проект должен полностью отрабатывать за разумное время (не больше 10 минут), поэтому в финальный вариант лучше не включать GridSearch с перебором большого количества сочетаний параметров."
   ]
  },
  {
   "cell_type": "markdown",
   "metadata": {
    "papermill": {
     "duration": 0.01397,
     "end_time": "2021-02-02T15:58:40.892639",
     "exception": false,
     "start_time": "2021-02-02T15:58:40.878669",
     "status": "completed"
    },
    "tags": []
   },
   "source": [
    "Подключение библиотек и скриптов"
   ]
  },
  {
   "cell_type": "code",
   "execution_count": 1,
   "metadata": {
    "execution": {
     "iopub.execute_input": "2021-02-02T15:58:40.927810Z",
     "iopub.status.busy": "2021-02-02T15:58:40.927099Z",
     "iopub.status.idle": "2021-02-02T15:58:40.946233Z",
     "shell.execute_reply": "2021-02-02T15:58:40.945308Z"
    },
    "papermill": {
     "duration": 0.039713,
     "end_time": "2021-02-02T15:58:40.946467",
     "exception": false,
     "start_time": "2021-02-02T15:58:40.906754",
     "status": "completed"
    },
    "tags": []
   },
   "outputs": [
    {
     "name": "stdout",
     "output_type": "stream",
     "text": [
      "/kaggle/input/realestatepriceprediction/sample_submission.csv\n",
      "/kaggle/input/realestatepriceprediction/train.csv\n",
      "/kaggle/input/realestatepriceprediction/test.csv\n"
     ]
    }
   ],
   "source": [
    "# This Python 3 environment comes with many helpful analytics libraries installed\n",
    "# It is defined by the kaggle/python Docker image: https://github.com/kaggle/docker-python\n",
    "# For example, here's several helpful packages to load\n",
    "\n",
    "import numpy as np # linear algebra\n",
    "import pandas as pd # data processing, CSV file I/O (e.g. pd.read_csv)\n",
    "\n",
    "# Input data files are available in the read-only \"../input/\" directory\n",
    "# For example, running this (by clicking run or pressing Shift+Enter) will list all files under the input directory\n",
    "\n",
    "import os\n",
    "for dirname, _, filenames in os.walk('/kaggle/input'):\n",
    "    for filename in filenames:\n",
    "        print(os.path.join(dirname, filename))\n",
    "\n",
    "# You can write up to 5GB to the current directory (/kaggle/working/) that gets preserved as output when you create a version using \"Save & Run All\" \n",
    "# You can also write temporary files to /kaggle/temp/, but they won't be saved outside of the current session"
   ]
  },
  {
   "cell_type": "code",
   "execution_count": 2,
   "metadata": {
    "_cell_guid": "b1076dfc-b9ad-4769-8c92-a6c4dae69d19",
    "_uuid": "8f2839f25d086af736a60e9eeb907d3b93b6e0e5",
    "execution": {
     "iopub.execute_input": "2021-02-02T15:58:40.988063Z",
     "iopub.status.busy": "2021-02-02T15:58:40.987096Z",
     "iopub.status.idle": "2021-02-02T15:58:42.732064Z",
     "shell.execute_reply": "2021-02-02T15:58:42.732709Z"
    },
    "papermill": {
     "duration": 1.770518,
     "end_time": "2021-02-02T15:58:42.733003",
     "exception": false,
     "start_time": "2021-02-02T15:58:40.962485",
     "status": "completed"
    },
    "tags": []
   },
   "outputs": [],
   "source": [
    "import numpy as np\n",
    "import pandas as pd\n",
    "import seaborn as sns\n",
    "import matplotlib\n",
    "import matplotlib.pyplot as plt\n",
    "import random\n",
    "import warnings\n",
    "\n",
    "from matplotlib import style\n",
    "from sklearn import ensemble\n",
    "from sklearn.ensemble import VotingRegressor\n",
    "from sklearn.ensemble import RandomForestRegressor\n",
    "from sklearn.metrics import r2_score as r2\n",
    "from sklearn.model_selection import train_test_split, cross_val_score\n",
    "from sklearn.preprocessing import StandardScaler, RobustScaler\n",
    "from sklearn.model_selection import KFold, GridSearchCV\n",
    "from datetime import datetime\n",
    "from pylab import rcParams\n",
    "\n",
    "style.use('fivethirtyeight')\n",
    "%matplotlib inline\n",
    "warnings.filterwarnings('ignore')"
   ]
  },
  {
   "cell_type": "code",
   "execution_count": 3,
   "metadata": {
    "execution": {
     "iopub.execute_input": "2021-02-02T15:58:42.773986Z",
     "iopub.status.busy": "2021-02-02T15:58:42.772949Z",
     "iopub.status.idle": "2021-02-02T15:58:42.775473Z",
     "shell.execute_reply": "2021-02-02T15:58:42.776208Z"
    },
    "papermill": {
     "duration": 0.027923,
     "end_time": "2021-02-02T15:58:42.776462",
     "exception": false,
     "start_time": "2021-02-02T15:58:42.748539",
     "status": "completed"
    },
    "tags": []
   },
   "outputs": [],
   "source": [
    "matplotlib.rcParams.update({'font.size': 14})"
   ]
  },
  {
   "cell_type": "code",
   "execution_count": 4,
   "metadata": {
    "execution": {
     "iopub.execute_input": "2021-02-02T15:58:42.822056Z",
     "iopub.status.busy": "2021-02-02T15:58:42.820957Z",
     "iopub.status.idle": "2021-02-02T15:58:42.830247Z",
     "shell.execute_reply": "2021-02-02T15:58:42.831026Z"
    },
    "papermill": {
     "duration": 0.039039,
     "end_time": "2021-02-02T15:58:42.831290",
     "exception": false,
     "start_time": "2021-02-02T15:58:42.792251",
     "status": "completed"
    },
    "tags": []
   },
   "outputs": [],
   "source": [
    "def evaluate_preds(train_true_values, train_pred_values, test_true_values, test_pred_values):\n",
    "    print(\"Train R2:\\t\" + str(round(r2(train_true_values, train_pred_values), 3)))\n",
    "    print(\"Test R2:\\t\" + str(round(r2(test_true_values, test_pred_values), 3)))\n",
    "    \n",
    "    plt.figure(figsize=(18,10))\n",
    "    \n",
    "    plt.subplot(121)\n",
    "    sns.scatterplot(x=train_pred_values, y=train_true_values)\n",
    "    plt.xlabel('Predicted values')\n",
    "    plt.ylabel('True values')\n",
    "    plt.title('Train sample prediction')\n",
    "    \n",
    "    plt.subplot(122)\n",
    "    sns.scatterplot(x=test_pred_values, y=test_true_values)\n",
    "    plt.xlabel('Predicted values')\n",
    "    plt.ylabel('True values')\n",
    "    plt.title('Test sample prediction')\n",
    "\n",
    "    plt.show()"
   ]
  },
  {
   "cell_type": "markdown",
   "metadata": {
    "papermill": {
     "duration": 0.020348,
     "end_time": "2021-02-02T15:58:42.877090",
     "exception": false,
     "start_time": "2021-02-02T15:58:42.856742",
     "status": "completed"
    },
    "tags": []
   },
   "source": [
    "Загрузка данных"
   ]
  },
  {
   "cell_type": "code",
   "execution_count": 5,
   "metadata": {
    "execution": {
     "iopub.execute_input": "2021-02-02T15:58:42.914981Z",
     "iopub.status.busy": "2021-02-02T15:58:42.914247Z",
     "iopub.status.idle": "2021-02-02T15:58:43.034994Z",
     "shell.execute_reply": "2021-02-02T15:58:43.035595Z"
    },
    "papermill": {
     "duration": 0.142812,
     "end_time": "2021-02-02T15:58:43.035810",
     "exception": false,
     "start_time": "2021-02-02T15:58:42.892998",
     "status": "completed"
    },
    "tags": []
   },
   "outputs": [],
   "source": [
    "TEST_DATASET_PATH = '/kaggle/input/realestatepriceprediction/test.csv'\n",
    "TRAIN_DATASET_PATH = '/kaggle/input/realestatepriceprediction/train.csv'\n",
    "\n",
    "test_data = pd.read_csv(TEST_DATASET_PATH)\n",
    "train_data = pd.read_csv(TRAIN_DATASET_PATH)"
   ]
  },
  {
   "cell_type": "markdown",
   "metadata": {
    "papermill": {
     "duration": 0.016167,
     "end_time": "2021-02-02T15:58:43.069058",
     "exception": false,
     "start_time": "2021-02-02T15:58:43.052891",
     "status": "completed"
    },
    "tags": []
   },
   "source": [
    "**Описание датасета**\n",
    "\n",
    "- **Id** - идентификационный номер квартиры\n",
    "- **DistrictId** - идентификационный номер района\n",
    "- **Rooms** - количество комнат\n",
    "- **Square** - площадь\n",
    "- **LifeSquare** - жилая площадь\n",
    "- **KitchenSquare** - площадь кухни\n",
    "- **Floor** - этаж\n",
    "- **HouseFloor** - количество этажей в доме\n",
    "- **HouseYear** - год постройки дома\n",
    "- **Ecology_1**, **Ecology_2**, **Ecology_3** - экологические показатели местности\n",
    "- **Social_1**, **Social_2**, **Social_3** - социальные показатели местности\n",
    "- **Healthcare_1**, **Helthcare_2** - показатели местности, связанные с охраной здоровья\n",
    "- **Shops_1**, **Shops_2** - показатели, связанные с наличием магазинов, торговых центров\n",
    "- **Price** - цена квартиры"
   ]
  },
  {
   "cell_type": "code",
   "execution_count": 6,
   "metadata": {
    "execution": {
     "iopub.execute_input": "2021-02-02T15:58:43.105947Z",
     "iopub.status.busy": "2021-02-02T15:58:43.105214Z",
     "iopub.status.idle": "2021-02-02T15:58:43.161269Z",
     "shell.execute_reply": "2021-02-02T15:58:43.160678Z"
    },
    "papermill": {
     "duration": 0.07532,
     "end_time": "2021-02-02T15:58:43.161434",
     "exception": false,
     "start_time": "2021-02-02T15:58:43.086114",
     "status": "completed"
    },
    "tags": []
   },
   "outputs": [
    {
     "data": {
      "text/html": [
       "<div>\n",
       "<style scoped>\n",
       "    .dataframe tbody tr th:only-of-type {\n",
       "        vertical-align: middle;\n",
       "    }\n",
       "\n",
       "    .dataframe tbody tr th {\n",
       "        vertical-align: top;\n",
       "    }\n",
       "\n",
       "    .dataframe thead th {\n",
       "        text-align: right;\n",
       "    }\n",
       "</style>\n",
       "<table border=\"1\" class=\"dataframe\">\n",
       "  <thead>\n",
       "    <tr style=\"text-align: right;\">\n",
       "      <th></th>\n",
       "      <th>Id</th>\n",
       "      <th>DistrictId</th>\n",
       "      <th>Rooms</th>\n",
       "      <th>Square</th>\n",
       "      <th>LifeSquare</th>\n",
       "      <th>KitchenSquare</th>\n",
       "      <th>Floor</th>\n",
       "      <th>HouseFloor</th>\n",
       "      <th>HouseYear</th>\n",
       "      <th>Ecology_1</th>\n",
       "      <th>Ecology_2</th>\n",
       "      <th>Ecology_3</th>\n",
       "      <th>Social_1</th>\n",
       "      <th>Social_2</th>\n",
       "      <th>Social_3</th>\n",
       "      <th>Healthcare_1</th>\n",
       "      <th>Helthcare_2</th>\n",
       "      <th>Shops_1</th>\n",
       "      <th>Shops_2</th>\n",
       "      <th>Price</th>\n",
       "    </tr>\n",
       "  </thead>\n",
       "  <tbody>\n",
       "    <tr>\n",
       "      <th>9995</th>\n",
       "      <td>77</td>\n",
       "      <td>32</td>\n",
       "      <td>2.0</td>\n",
       "      <td>50.401785</td>\n",
       "      <td>30.476203</td>\n",
       "      <td>5.0</td>\n",
       "      <td>6</td>\n",
       "      <td>5.0</td>\n",
       "      <td>1968</td>\n",
       "      <td>0.135650</td>\n",
       "      <td>B</td>\n",
       "      <td>B</td>\n",
       "      <td>46</td>\n",
       "      <td>7960</td>\n",
       "      <td>6</td>\n",
       "      <td>350.0</td>\n",
       "      <td>3</td>\n",
       "      <td>11</td>\n",
       "      <td>B</td>\n",
       "      <td>196684.316040</td>\n",
       "    </tr>\n",
       "    <tr>\n",
       "      <th>9996</th>\n",
       "      <td>6159</td>\n",
       "      <td>18</td>\n",
       "      <td>1.0</td>\n",
       "      <td>41.521546</td>\n",
       "      <td>20.539216</td>\n",
       "      <td>9.0</td>\n",
       "      <td>13</td>\n",
       "      <td>13.0</td>\n",
       "      <td>2000</td>\n",
       "      <td>0.000000</td>\n",
       "      <td>B</td>\n",
       "      <td>B</td>\n",
       "      <td>30</td>\n",
       "      <td>5562</td>\n",
       "      <td>0</td>\n",
       "      <td>NaN</td>\n",
       "      <td>0</td>\n",
       "      <td>5</td>\n",
       "      <td>A</td>\n",
       "      <td>189050.289571</td>\n",
       "    </tr>\n",
       "    <tr>\n",
       "      <th>9997</th>\n",
       "      <td>5123</td>\n",
       "      <td>27</td>\n",
       "      <td>1.0</td>\n",
       "      <td>47.939008</td>\n",
       "      <td>NaN</td>\n",
       "      <td>1.0</td>\n",
       "      <td>12</td>\n",
       "      <td>16.0</td>\n",
       "      <td>2015</td>\n",
       "      <td>0.072158</td>\n",
       "      <td>B</td>\n",
       "      <td>B</td>\n",
       "      <td>2</td>\n",
       "      <td>629</td>\n",
       "      <td>1</td>\n",
       "      <td>NaN</td>\n",
       "      <td>0</td>\n",
       "      <td>0</td>\n",
       "      <td>A</td>\n",
       "      <td>159143.805370</td>\n",
       "    </tr>\n",
       "    <tr>\n",
       "      <th>9998</th>\n",
       "      <td>5400</td>\n",
       "      <td>75</td>\n",
       "      <td>2.0</td>\n",
       "      <td>43.602562</td>\n",
       "      <td>33.840147</td>\n",
       "      <td>8.0</td>\n",
       "      <td>1</td>\n",
       "      <td>5.0</td>\n",
       "      <td>1961</td>\n",
       "      <td>0.307467</td>\n",
       "      <td>B</td>\n",
       "      <td>A</td>\n",
       "      <td>30</td>\n",
       "      <td>5048</td>\n",
       "      <td>9</td>\n",
       "      <td>325.0</td>\n",
       "      <td>2</td>\n",
       "      <td>5</td>\n",
       "      <td>B</td>\n",
       "      <td>181595.339808</td>\n",
       "    </tr>\n",
       "    <tr>\n",
       "      <th>9999</th>\n",
       "      <td>6306</td>\n",
       "      <td>128</td>\n",
       "      <td>1.0</td>\n",
       "      <td>38.666645</td>\n",
       "      <td>21.157874</td>\n",
       "      <td>8.0</td>\n",
       "      <td>7</td>\n",
       "      <td>17.0</td>\n",
       "      <td>1990</td>\n",
       "      <td>0.000000</td>\n",
       "      <td>B</td>\n",
       "      <td>B</td>\n",
       "      <td>27</td>\n",
       "      <td>4798</td>\n",
       "      <td>0</td>\n",
       "      <td>30.0</td>\n",
       "      <td>2</td>\n",
       "      <td>8</td>\n",
       "      <td>B</td>\n",
       "      <td>218714.077615</td>\n",
       "    </tr>\n",
       "  </tbody>\n",
       "</table>\n",
       "</div>"
      ],
      "text/plain": [
       "        Id  DistrictId  Rooms     Square  LifeSquare  KitchenSquare  Floor  \\\n",
       "9995    77          32    2.0  50.401785   30.476203            5.0      6   \n",
       "9996  6159          18    1.0  41.521546   20.539216            9.0     13   \n",
       "9997  5123          27    1.0  47.939008         NaN            1.0     12   \n",
       "9998  5400          75    2.0  43.602562   33.840147            8.0      1   \n",
       "9999  6306         128    1.0  38.666645   21.157874            8.0      7   \n",
       "\n",
       "      HouseFloor  HouseYear  Ecology_1 Ecology_2 Ecology_3  Social_1  \\\n",
       "9995         5.0       1968   0.135650         B         B        46   \n",
       "9996        13.0       2000   0.000000         B         B        30   \n",
       "9997        16.0       2015   0.072158         B         B         2   \n",
       "9998         5.0       1961   0.307467         B         A        30   \n",
       "9999        17.0       1990   0.000000         B         B        27   \n",
       "\n",
       "      Social_2  Social_3  Healthcare_1  Helthcare_2  Shops_1 Shops_2  \\\n",
       "9995      7960         6         350.0            3       11       B   \n",
       "9996      5562         0           NaN            0        5       A   \n",
       "9997       629         1           NaN            0        0       A   \n",
       "9998      5048         9         325.0            2        5       B   \n",
       "9999      4798         0          30.0            2        8       B   \n",
       "\n",
       "              Price  \n",
       "9995  196684.316040  \n",
       "9996  189050.289571  \n",
       "9997  159143.805370  \n",
       "9998  181595.339808  \n",
       "9999  218714.077615  "
      ]
     },
     "execution_count": 6,
     "metadata": {},
     "output_type": "execute_result"
    }
   ],
   "source": [
    "train_data.tail()"
   ]
  },
  {
   "cell_type": "markdown",
   "metadata": {
    "papermill": {
     "duration": 0.016606,
     "end_time": "2021-02-02T15:58:43.198402",
     "exception": false,
     "start_time": "2021-02-02T15:58:43.181796",
     "status": "completed"
    },
    "tags": []
   },
   "source": [
    "Анализ распределения целевой переменной в разрезе иных признаков"
   ]
  },
  {
   "cell_type": "code",
   "execution_count": 7,
   "metadata": {
    "execution": {
     "iopub.execute_input": "2021-02-02T15:58:43.240244Z",
     "iopub.status.busy": "2021-02-02T15:58:43.239457Z",
     "iopub.status.idle": "2021-02-02T15:58:43.588192Z",
     "shell.execute_reply": "2021-02-02T15:58:43.587658Z"
    },
    "papermill": {
     "duration": 0.373612,
     "end_time": "2021-02-02T15:58:43.588346",
     "exception": false,
     "start_time": "2021-02-02T15:58:43.214734",
     "status": "completed"
    },
    "tags": []
   },
   "outputs": [
    {
     "data": {
      "image/png": "[encoded data removed]",
      "text/plain": [
       "<Figure size 864x432 with 1 Axes>"
      ]
     },
     "metadata": {
      "needs_background": "light"
     },
     "output_type": "display_data"
    }
   ],
   "source": [
    "plt.figure(figsize=(12, 6))\n",
    "sns.boxplot(train_data['Rooms'], train_data['Price'])\n",
    "plt.xlabel('Rooms')\n",
    "plt.ylabel('Price')\n",
    "plt.title('Distribution of Price by Rooms')\n",
    "plt.show()"
   ]
  },
  {
   "cell_type": "markdown",
   "metadata": {
    "papermill": {
     "duration": 0.017145,
     "end_time": "2021-02-02T15:58:43.623683",
     "exception": false,
     "start_time": "2021-02-02T15:58:43.606538",
     "status": "completed"
    },
    "tags": []
   },
   "source": [
    "Исключение малозначимых столбцов, содержащих количественные признаки"
   ]
  },
  {
   "cell_type": "code",
   "execution_count": 8,
   "metadata": {
    "execution": {
     "iopub.execute_input": "2021-02-02T15:58:43.666865Z",
     "iopub.status.busy": "2021-02-02T15:58:43.666057Z",
     "iopub.status.idle": "2021-02-02T15:58:43.669500Z",
     "shell.execute_reply": "2021-02-02T15:58:43.670121Z"
    },
    "papermill": {
     "duration": 0.02915,
     "end_time": "2021-02-02T15:58:43.670306",
     "exception": false,
     "start_time": "2021-02-02T15:58:43.641156",
     "status": "completed"
    },
    "tags": []
   },
   "outputs": [
    {
     "data": {
      "text/plain": [
       "Id                 int64\n",
       "DistrictId         int64\n",
       "Rooms            float64\n",
       "Square           float64\n",
       "LifeSquare       float64\n",
       "KitchenSquare    float64\n",
       "Floor              int64\n",
       "HouseFloor       float64\n",
       "HouseYear          int64\n",
       "Ecology_1        float64\n",
       "Ecology_2         object\n",
       "Ecology_3         object\n",
       "Social_1           int64\n",
       "Social_2           int64\n",
       "Social_3           int64\n",
       "Healthcare_1     float64\n",
       "Helthcare_2        int64\n",
       "Shops_1            int64\n",
       "Shops_2           object\n",
       "Price            float64\n",
       "dtype: object"
      ]
     },
     "execution_count": 8,
     "metadata": {},
     "output_type": "execute_result"
    }
   ],
   "source": [
    "train_data.dtypes"
   ]
  },
  {
   "cell_type": "code",
   "execution_count": 9,
   "metadata": {
    "execution": {
     "iopub.execute_input": "2021-02-02T15:58:43.710777Z",
     "iopub.status.busy": "2021-02-02T15:58:43.709945Z",
     "iopub.status.idle": "2021-02-02T15:58:44.560489Z",
     "shell.execute_reply": "2021-02-02T15:58:44.559829Z"
    },
    "papermill": {
     "duration": 0.872162,
     "end_time": "2021-02-02T15:58:44.560667",
     "exception": false,
     "start_time": "2021-02-02T15:58:43.688505",
     "status": "completed"
    },
    "tags": []
   },
   "outputs": [
    {
     "data": {
      "text/plain": [
       "array([[<AxesSubplot:title={'center':'Rooms'}>,\n",
       "        <AxesSubplot:title={'center':'Square'}>],\n",
       "       [<AxesSubplot:title={'center':'LifeSquare'}>,\n",
       "        <AxesSubplot:title={'center':'KitchenSquare'}>],\n",
       "       [<AxesSubplot:title={'center':'HouseFloor'}>,\n",
       "        <AxesSubplot:title={'center':'Price'}>]], dtype=object)"
      ]
     },
     "execution_count": 9,
     "metadata": {},
     "output_type": "execute_result"
    },
    {
     "data": {
      "image/png": "[encoded data removed]",
      "text/plain": [
       "<Figure size 720x576 with 6 Axes>"
      ]
     },
     "metadata": {
      "needs_background": "light"
     },
     "output_type": "display_data"
    }
   ],
   "source": [
    "df_num_features = train_data.select_dtypes(include='float64')\n",
    "\n",
    "num_features = pd.DataFrame(df_num_features)\n",
    "num_features.drop('Ecology_1', axis=1, inplace=True)\n",
    "num_features.drop('Healthcare_1', axis=1, inplace=True)\n",
    "num_features.hist(figsize=(10, 8), bins=20, grid=False)"
   ]
  },
  {
   "cell_type": "markdown",
   "metadata": {
    "papermill": {
     "duration": 0.020625,
     "end_time": "2021-02-02T15:58:44.602450",
     "exception": false,
     "start_time": "2021-02-02T15:58:44.581825",
     "status": "completed"
    },
    "tags": []
   },
   "source": [
    "Взаимосвязь признаков"
   ]
  },
  {
   "cell_type": "code",
   "execution_count": 10,
   "metadata": {
    "execution": {
     "iopub.execute_input": "2021-02-02T15:58:44.652040Z",
     "iopub.status.busy": "2021-02-02T15:58:44.651145Z",
     "iopub.status.idle": "2021-02-02T15:58:45.027436Z",
     "shell.execute_reply": "2021-02-02T15:58:45.026864Z"
    },
    "papermill": {
     "duration": 0.403435,
     "end_time": "2021-02-02T15:58:45.027624",
     "exception": false,
     "start_time": "2021-02-02T15:58:44.624189",
     "status": "completed"
    },
    "tags": []
   },
   "outputs": [
    {
     "data": {
      "image/png": "[encoded data removed]",
      "text/plain": [
       "<Figure size 576x576 with 2 Axes>"
      ]
     },
     "metadata": {
      "needs_background": "light"
     },
     "output_type": "display_data"
    }
   ],
   "source": [
    "corr = num_features.corr()\n",
    "plt.figure(figsize = (8, 8))\n",
    "mask = np.zeros_like(corr, dtype=np.bool)\n",
    "mask[np.triu_indices_from(mask)] = True\n",
    "sns.set(font_scale=1.4)\n",
    "sns.heatmap(num_features.corr(), mask=mask, annot=True, fmt='.1f', linewidths=.5, cmap='GnBu')\n",
    "plt.title('Relationship matrix')\n",
    "plt.show()"
   ]
  },
  {
   "cell_type": "code",
   "execution_count": 11,
   "metadata": {
    "execution": {
     "iopub.execute_input": "2021-02-02T15:58:45.082230Z",
     "iopub.status.busy": "2021-02-02T15:58:45.081149Z",
     "iopub.status.idle": "2021-02-02T15:58:45.097204Z",
     "shell.execute_reply": "2021-02-02T15:58:45.097761Z"
    },
    "papermill": {
     "duration": 0.047667,
     "end_time": "2021-02-02T15:58:45.097954",
     "exception": false,
     "start_time": "2021-02-02T15:58:45.050287",
     "status": "completed"
    },
    "tags": []
   },
   "outputs": [
    {
     "name": "stdout",
     "output_type": "stream",
     "text": [
      "<class 'pandas.core.frame.DataFrame'>\n",
      "RangeIndex: 5000 entries, 0 to 4999\n",
      "Data columns (total 19 columns):\n",
      " #   Column         Non-Null Count  Dtype  \n",
      "---  ------         --------------  -----  \n",
      " 0   Id             5000 non-null   int64  \n",
      " 1   DistrictId     5000 non-null   int64  \n",
      " 2   Rooms          5000 non-null   float64\n",
      " 3   Square         5000 non-null   float64\n",
      " 4   LifeSquare     3959 non-null   float64\n",
      " 5   KitchenSquare  5000 non-null   float64\n",
      " 6   Floor          5000 non-null   int64  \n",
      " 7   HouseFloor     5000 non-null   float64\n",
      " 8   HouseYear      5000 non-null   int64  \n",
      " 9   Ecology_1      5000 non-null   float64\n",
      " 10  Ecology_2      5000 non-null   object \n",
      " 11  Ecology_3      5000 non-null   object \n",
      " 12  Social_1       5000 non-null   int64  \n",
      " 13  Social_2       5000 non-null   int64  \n",
      " 14  Social_3       5000 non-null   int64  \n",
      " 15  Healthcare_1   2623 non-null   float64\n",
      " 16  Helthcare_2    5000 non-null   int64  \n",
      " 17  Shops_1        5000 non-null   int64  \n",
      " 18  Shops_2        5000 non-null   object \n",
      "dtypes: float64(7), int64(9), object(3)\n",
      "memory usage: 742.3+ KB\n"
     ]
    }
   ],
   "source": [
    "test_data.info()"
   ]
  },
  {
   "cell_type": "markdown",
   "metadata": {
    "papermill": {
     "duration": 0.022956,
     "end_time": "2021-02-02T15:58:45.144630",
     "exception": false,
     "start_time": "2021-02-02T15:58:45.121674",
     "status": "completed"
    },
    "tags": []
   },
   "source": [
    "Заполнение пропусков"
   ]
  },
  {
   "cell_type": "code",
   "execution_count": 12,
   "metadata": {
    "execution": {
     "iopub.execute_input": "2021-02-02T15:58:45.197331Z",
     "iopub.status.busy": "2021-02-02T15:58:45.196586Z",
     "iopub.status.idle": "2021-02-02T15:58:45.216249Z",
     "shell.execute_reply": "2021-02-02T15:58:45.216759Z"
    },
    "papermill": {
     "duration": 0.048861,
     "end_time": "2021-02-02T15:58:45.216958",
     "exception": false,
     "start_time": "2021-02-02T15:58:45.168097",
     "status": "completed"
    },
    "tags": []
   },
   "outputs": [],
   "source": [
    "train_data = train_data.sort_values('Price')\n",
    "test_data = test_data.sort_values('DistrictId')\n",
    "train_data = train_data.fillna(method='pad')\n",
    "test_data = test_data.fillna(method='pad')"
   ]
  },
  {
   "cell_type": "markdown",
   "metadata": {
    "papermill": {
     "duration": 0.024655,
     "end_time": "2021-02-02T15:58:45.263641",
     "exception": false,
     "start_time": "2021-02-02T15:58:45.238986",
     "status": "completed"
    },
    "tags": []
   },
   "source": [
    "Проверка данных"
   ]
  },
  {
   "cell_type": "code",
   "execution_count": 13,
   "metadata": {
    "execution": {
     "iopub.execute_input": "2021-02-02T15:58:45.340021Z",
     "iopub.status.busy": "2021-02-02T15:58:45.338822Z",
     "iopub.status.idle": "2021-02-02T15:58:45.580917Z",
     "shell.execute_reply": "2021-02-02T15:58:45.580009Z"
    },
    "papermill": {
     "duration": 0.294606,
     "end_time": "2021-02-02T15:58:45.581117",
     "exception": false,
     "start_time": "2021-02-02T15:58:45.286511",
     "status": "completed"
    },
    "tags": []
   },
   "outputs": [
    {
     "data": {
      "text/plain": [
       "<matplotlib.collections.PathCollection at 0x7fa4600d1c50>"
      ]
     },
     "execution_count": 13,
     "metadata": {},
     "output_type": "execute_result"
    },
    {
     "data": {
      "image/png": "[encoded data removed]",
      "text/plain": [
       "<Figure size 864x432 with 1 Axes>"
      ]
     },
     "metadata": {},
     "output_type": "display_data"
    }
   ],
   "source": [
    "rcParams['figure.figsize'] = 12, 6  # изменение размера графиков\n",
    "\n",
    "plt.scatter(train_data.Price, train_data.Square)"
   ]
  },
  {
   "cell_type": "markdown",
   "metadata": {
    "papermill": {
     "duration": 0.025763,
     "end_time": "2021-02-02T15:58:45.633286",
     "exception": false,
     "start_time": "2021-02-02T15:58:45.607523",
     "status": "completed"
    },
    "tags": []
   },
   "source": [
    "Формирование и обучение модели. Предсказание цен"
   ]
  },
  {
   "cell_type": "code",
   "execution_count": 14,
   "metadata": {
    "execution": {
     "iopub.execute_input": "2021-02-02T15:58:45.694161Z",
     "iopub.status.busy": "2021-02-02T15:58:45.693025Z",
     "iopub.status.idle": "2021-02-02T15:59:16.452534Z",
     "shell.execute_reply": "2021-02-02T15:59:16.451966Z"
    },
    "papermill": {
     "duration": 30.793312,
     "end_time": "2021-02-02T15:59:16.452731",
     "exception": false,
     "start_time": "2021-02-02T15:58:45.659419",
     "status": "completed"
    },
    "tags": []
   },
   "outputs": [],
   "source": [
    "# формирование модели\n",
    "\n",
    "X_train = train_data.drop('Price', axis=1) # 1\n",
    "y_train = train_data['Price'] # 1\n",
    "\n",
    "X_test = test_data # 2\n",
    "\n",
    "pr = pd.DataFrame()\n",
    "pr['Id'] = X_test['Id'].copy() # 2.0\n",
    "\n",
    "del_list = [\"Id\", \"DistrictId\", \"LifeSquare\", \"Healthcare_1\", \"Ecology_2\", \"Ecology_3\", \"Shops_2\"]\n",
    "X_train.drop(del_list, axis=1, inplace=True) # 1\n",
    "X_test.drop(del_list, axis=1, inplace=True) # 2\n",
    "\n",
    "# обучение модели\n",
    "model = RandomForestRegressor(n_estimators=1000, max_depth=16, random_state=42, max_features=7)\n",
    "model.fit(X_train, y_train) # 1\n",
    "\n",
    "y_pred = model.predict(X_test) # 2\n",
    "\n",
    "# предсказание цен\n",
    "pr['Price'] = y_pred # 2.0\n",
    "pr.to_csv('predictions.csv', index=False) # 2.0"
   ]
  },
  {
   "cell_type": "code",
   "execution_count": null,
   "metadata": {
    "papermill": {
     "duration": 0.023767,
     "end_time": "2021-02-02T15:59:16.500830",
     "exception": false,
     "start_time": "2021-02-02T15:59:16.477063",
     "status": "completed"
    },
    "tags": []
   },
   "outputs": [],
   "source": []
  }
 ],
 "metadata": {
  "kernelspec": {
   "display_name": "Python 3",
   "language": "python",
   "name": "python3"
  },
  "language_info": {
   "codemirror_mode": {
    "name": "ipython",
    "version": 3
   },
   "file_extension": ".py",
   "mimetype": "text/x-python",
   "name": "python",
   "nbconvert_exporter": "python",
   "pygments_lexer": "ipython3",
   "version": "3.7.9"
  },
  "papermill": {
   "default_parameters": {},
   "duration": 43.279916,
   "end_time": "2021-02-02T15:59:17.339414",
   "environment_variables": {},
   "exception": null,
   "input_path": "__notebook__.ipynb",
   "output_path": "__notebook__.ipynb",
   "parameters": {},
   "start_time": "2021-02-02T15:58:34.059498",
   "version": "2.2.2"
  }
 },
 "nbformat": 4,
 "nbformat_minor": 4
}
